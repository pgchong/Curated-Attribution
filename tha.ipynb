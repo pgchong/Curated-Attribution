{
 "cells": [
  {
   "cell_type": "code",
   "execution_count": 1,
   "id": "1b83aa3a-7063-450c-ad5c-6d3e3e8bfcfb",
   "metadata": {},
   "outputs": [],
   "source": [
    "import pandas as pd\n",
    "import numpy as np\n",
    "from collections import defaultdict\n",
    "\n",
    "pd.set_option('display.max_colwidth', None)\n",
    "pd.set_option('display.max_rows', 500)\n",
    "pd.set_option('display.max_columns', 500)\n",
    "pd.set_option('display.width', 1000)"
   ]
  },
  {
   "cell_type": "code",
   "execution_count": 2,
   "id": "70805b4d-4cb1-4f1a-b695-8182fba86024",
   "metadata": {},
   "outputs": [],
   "source": [
    "df_orders = pd.read_csv('/Users/patchong/Google Drive/My Drive/Work/Prep/Challenges/Curated/THA/Items - Dec 2022.csv')\n",
    "df_act = pd.read_csv('/Users/patchong/Google Drive/My Drive/Work/Prep/Challenges/Curated/THA/Touchstream - 2022.csv')"
   ]
  },
  {
   "cell_type": "code",
   "execution_count": 3,
   "id": "5498468b-2cdb-46c9-8367-010ac1de42e8",
   "metadata": {},
   "outputs": [],
   "source": [
    "# # splitting dataframe by row index\n",
    "# df1 = df_act.iloc[:600000]\n",
    "# df2 = df_act.iloc[600000:1200000]\n",
    "# df3 = df_act.iloc[1200000:1800000]\n",
    "# df4 = df_act.iloc[1800000:2400000]\n",
    "# df5 = df_act.iloc[2400000:3000000]\n",
    "# df6 = df_act.iloc[3000000:]\n",
    "# print(\"Shape of new dataframes - {} , {}, {}, {}, {}, {}\".format(df1.shape, df2.shape, df3.shape, df4.shape, df5.shape, df6.shape))"
   ]
  },
  {
   "cell_type": "code",
   "execution_count": 4,
   "id": "150b2994-64dd-4731-a65a-1da10cbdb5c2",
   "metadata": {},
   "outputs": [],
   "source": [
    "# df1.to_csv('Touchstream - 2022-1.csv')\n",
    "# df2.to_csv('Touchstream - 2022-2.csv')\n",
    "# df3.to_csv('Touchstream - 2022-3.csv')\n",
    "# df4.to_csv('Touchstream - 2022-4.csv')\n",
    "# df5.to_csv('Touchstream - 2022-5.csv')\n",
    "# df6.to_csv('Touchstream - 2022-6.csv')"
   ]
  },
  {
   "cell_type": "code",
   "execution_count": 5,
   "id": "9e524af0-6354-4e5f-91da-88c3830d29eb",
   "metadata": {},
   "outputs": [
    {
     "data": {
      "text/plain": [
       "fact_attributions_user_in_ops              0\n",
       "fact_attributions_user_id                  0\n",
       "fact_attributions_touch_source             0\n",
       "fact_attributions_source_group           476\n",
       "fact_attributions_touch_occurred_date      0\n",
       "dtype: int64"
      ]
     },
     "execution_count": 5,
     "metadata": {},
     "output_type": "execute_result"
    }
   ],
   "source": [
    "# Note, there are cases where a user is not in ops but there is an odd user_id.\n",
    "df_act = df_act.dropna(subset=['fact_attributions_user_in_ops'])\n",
    "df_act.isna().sum()"
   ]
  },
  {
   "cell_type": "code",
   "execution_count": 6,
   "id": "ea96d1fa-6e01-40dc-89e9-8e3072ea2479",
   "metadata": {},
   "outputs": [],
   "source": [
    "# # user with order\n",
    "user_id = 'urn:user:c543d399-134b-47d0-b3b1-d9a64c97912b' \n",
    "# # user with no orders\n",
    "# user_id = 'urn:user:d5009cdc-54c0-441d-ac9a-62e7d77a20e3' \n",
    "\n",
    "# # user_id = ['urn:user:c543d399-134b-47d0-b3b1-d9a64c97912b', 'urn:user:d5009cdc-54c0-441d-ac9a-62e7d77a20e3']\n",
    "\n",
    "df_act = df_act[df_act.fact_attributions_user_id == user_id]\n",
    "df_orders = df_orders[df_orders.dim_users_user_id == user_id]\n",
    "# df_act = df_act[df_act.fact_attributions_user_id.isin(user_id)]\n",
    "# df_orders = df_orders[df_orders.dim_users_user_id.isin(user_id)]"
   ]
  },
  {
   "cell_type": "code",
   "execution_count": 7,
   "id": "7c7f32e3-b3ea-4e3a-8b4b-84bf11cc067d",
   "metadata": {},
   "outputs": [],
   "source": [
    "# left join so can calculate conversion (i.e. users who have activity but no orders)\n",
    "merged = pd.merge(df_act, df_orders, left_on='fact_attributions_user_id', right_on='dim_users_user_id', how='left')"
   ]
  },
  {
   "cell_type": "code",
   "execution_count": 8,
   "id": "1a424475-9721-446e-9460-49bd8f86a789",
   "metadata": {},
   "outputs": [
    {
     "name": "stdout",
     "output_type": "stream",
     "text": [
      "(2980, 14)\n"
     ]
    },
    {
     "data": {
      "text/html": [
       "<div>\n",
       "<style scoped>\n",
       "    .dataframe tbody tr th:only-of-type {\n",
       "        vertical-align: middle;\n",
       "    }\n",
       "\n",
       "    .dataframe tbody tr th {\n",
       "        vertical-align: top;\n",
       "    }\n",
       "\n",
       "    .dataframe thead th {\n",
       "        text-align: right;\n",
       "    }\n",
       "</style>\n",
       "<table border=\"1\" class=\"dataframe\">\n",
       "  <thead>\n",
       "    <tr style=\"text-align: right;\">\n",
       "      <th></th>\n",
       "      <th>fact_attributions_user_in_ops</th>\n",
       "      <th>fact_attributions_user_id</th>\n",
       "      <th>fact_attributions_touch_source</th>\n",
       "      <th>fact_attributions_source_group</th>\n",
       "      <th>fact_attributions_touch_occurred_date</th>\n",
       "      <th>fact_purchased_orders_link_to_ops</th>\n",
       "      <th>fact_purchased_orders_exposed_order_id</th>\n",
       "      <th>fact_purchased_orders_order_id</th>\n",
       "      <th>dim_users_link_to_ops</th>\n",
       "      <th>dim_users_user_id</th>\n",
       "      <th>fact_purchased_orders_purchased_date</th>\n",
       "      <th>dim_users_created_date</th>\n",
       "      <th>fact_purchased_items_total_base_revenue_excluding_refund</th>\n",
       "      <th>fact_purchased_items_total_estimated_cost</th>\n",
       "    </tr>\n",
       "  </thead>\n",
       "  <tbody>\n",
       "    <tr>\n",
       "      <th>182</th>\n",
       "      <td>https://ops.curated.com/consumers/AgAAAAEAxUPTmRNLR9CzsdmmTJeRKw</td>\n",
       "      <td>urn:user:c543d399-134b-47d0-b3b1-d9a64c97912b</td>\n",
       "      <td>direct</td>\n",
       "      <td>direct</td>\n",
       "      <td>2022-12-31</td>\n",
       "      <td>https://ops.curated.com/orders/AgAAACkAV4qg-z5XS5Scnp8xxmjSpg</td>\n",
       "      <td>88733-40119</td>\n",
       "      <td>urn:order:578aa0fb-3e57-4b94-9c9e-9f31c668d2a6</td>\n",
       "      <td>https://ops.curated.com/consumers/AgAAAAEAxUPTmRNLR9CzsdmmTJeRKw</td>\n",
       "      <td>urn:user:c543d399-134b-47d0-b3b1-d9a64c97912b</td>\n",
       "      <td>2022-12-16</td>\n",
       "      <td>2017-11-27</td>\n",
       "      <td>479.97</td>\n",
       "      <td>359.96</td>\n",
       "    </tr>\n",
       "    <tr>\n",
       "      <th>175</th>\n",
       "      <td>https://ops.curated.com/consumers/AgAAAAEAxUPTmRNLR9CzsdmmTJeRKw</td>\n",
       "      <td>urn:user:c543d399-134b-47d0-b3b1-d9a64c97912b</td>\n",
       "      <td>trigger</td>\n",
       "      <td>crm</td>\n",
       "      <td>2022-12-31</td>\n",
       "      <td>https://ops.curated.com/orders/AgAAACkAiB44JYfKQJeYuuATACDWXg</td>\n",
       "      <td>43463-25847</td>\n",
       "      <td>urn:order:881e3825-87ca-4097-98ba-e0130020d65e</td>\n",
       "      <td>https://ops.curated.com/consumers/AgAAAAEAxUPTmRNLR9CzsdmmTJeRKw</td>\n",
       "      <td>urn:user:c543d399-134b-47d0-b3b1-d9a64c97912b</td>\n",
       "      <td>2022-11-30</td>\n",
       "      <td>2017-11-27</td>\n",
       "      <td>377.97</td>\n",
       "      <td>348.68</td>\n",
       "    </tr>\n",
       "    <tr>\n",
       "      <th>177</th>\n",
       "      <td>https://ops.curated.com/consumers/AgAAAAEAxUPTmRNLR9CzsdmmTJeRKw</td>\n",
       "      <td>urn:user:c543d399-134b-47d0-b3b1-d9a64c97912b</td>\n",
       "      <td>trigger</td>\n",
       "      <td>crm</td>\n",
       "      <td>2022-12-31</td>\n",
       "      <td>https://ops.curated.com/orders/AgAAACkA_kFraIM8SGGA8qGoUIMSWQ</td>\n",
       "      <td>43914-86010</td>\n",
       "      <td>urn:order:fe416b68-833c-4861-80f2-a1a850831259</td>\n",
       "      <td>https://ops.curated.com/consumers/AgAAAAEAxUPTmRNLR9CzsdmmTJeRKw</td>\n",
       "      <td>urn:user:c543d399-134b-47d0-b3b1-d9a64c97912b</td>\n",
       "      <td>2022-12-30</td>\n",
       "      <td>2017-11-27</td>\n",
       "      <td>329.97</td>\n",
       "      <td>467.46</td>\n",
       "    </tr>\n",
       "    <tr>\n",
       "      <th>178</th>\n",
       "      <td>https://ops.curated.com/consumers/AgAAAAEAxUPTmRNLR9CzsdmmTJeRKw</td>\n",
       "      <td>urn:user:c543d399-134b-47d0-b3b1-d9a64c97912b</td>\n",
       "      <td>trigger</td>\n",
       "      <td>crm</td>\n",
       "      <td>2022-12-31</td>\n",
       "      <td>https://ops.curated.com/orders/AgAAACkAKSukO82FTlu-ZJauf-ABxA</td>\n",
       "      <td>79248-34631</td>\n",
       "      <td>urn:order:292ba43b-cd85-4e5b-be64-96ae7fe001c4</td>\n",
       "      <td>https://ops.curated.com/consumers/AgAAAAEAxUPTmRNLR9CzsdmmTJeRKw</td>\n",
       "      <td>urn:user:c543d399-134b-47d0-b3b1-d9a64c97912b</td>\n",
       "      <td>2022-12-23</td>\n",
       "      <td>2017-11-27</td>\n",
       "      <td>299.99</td>\n",
       "      <td>228.79</td>\n",
       "    </tr>\n",
       "    <tr>\n",
       "      <th>179</th>\n",
       "      <td>https://ops.curated.com/consumers/AgAAAAEAxUPTmRNLR9CzsdmmTJeRKw</td>\n",
       "      <td>urn:user:c543d399-134b-47d0-b3b1-d9a64c97912b</td>\n",
       "      <td>trigger</td>\n",
       "      <td>crm</td>\n",
       "      <td>2022-12-31</td>\n",
       "      <td>https://ops.curated.com/orders/AgAAACkAv4_qSk-NTGW3sIvQVUcjiQ</td>\n",
       "      <td>01916-26351</td>\n",
       "      <td>urn:order:bf8fea4a-4f8d-4c65-b7b0-8bd055472389</td>\n",
       "      <td>https://ops.curated.com/consumers/AgAAAAEAxUPTmRNLR9CzsdmmTJeRKw</td>\n",
       "      <td>urn:user:c543d399-134b-47d0-b3b1-d9a64c97912b</td>\n",
       "      <td>2022-12-30</td>\n",
       "      <td>2017-11-27</td>\n",
       "      <td>120.00</td>\n",
       "      <td>54.00</td>\n",
       "    </tr>\n",
       "  </tbody>\n",
       "</table>\n",
       "</div>"
      ],
      "text/plain": [
       "                                        fact_attributions_user_in_ops                      fact_attributions_user_id fact_attributions_touch_source fact_attributions_source_group fact_attributions_touch_occurred_date                              fact_purchased_orders_link_to_ops fact_purchased_orders_exposed_order_id                  fact_purchased_orders_order_id                                             dim_users_link_to_ops                              dim_users_user_id fact_purchased_orders_purchased_date dim_users_created_date  fact_purchased_items_total_base_revenue_excluding_refund  fact_purchased_items_total_estimated_cost\n",
       "182  https://ops.curated.com/consumers/AgAAAAEAxUPTmRNLR9CzsdmmTJeRKw  urn:user:c543d399-134b-47d0-b3b1-d9a64c97912b                         direct                         direct                            2022-12-31  https://ops.curated.com/orders/AgAAACkAV4qg-z5XS5Scnp8xxmjSpg                            88733-40119  urn:order:578aa0fb-3e57-4b94-9c9e-9f31c668d2a6  https://ops.curated.com/consumers/AgAAAAEAxUPTmRNLR9CzsdmmTJeRKw  urn:user:c543d399-134b-47d0-b3b1-d9a64c97912b                           2022-12-16             2017-11-27                                                    479.97                                     359.96\n",
       "175  https://ops.curated.com/consumers/AgAAAAEAxUPTmRNLR9CzsdmmTJeRKw  urn:user:c543d399-134b-47d0-b3b1-d9a64c97912b                        trigger                            crm                            2022-12-31  https://ops.curated.com/orders/AgAAACkAiB44JYfKQJeYuuATACDWXg                            43463-25847  urn:order:881e3825-87ca-4097-98ba-e0130020d65e  https://ops.curated.com/consumers/AgAAAAEAxUPTmRNLR9CzsdmmTJeRKw  urn:user:c543d399-134b-47d0-b3b1-d9a64c97912b                           2022-11-30             2017-11-27                                                    377.97                                     348.68\n",
       "177  https://ops.curated.com/consumers/AgAAAAEAxUPTmRNLR9CzsdmmTJeRKw  urn:user:c543d399-134b-47d0-b3b1-d9a64c97912b                        trigger                            crm                            2022-12-31  https://ops.curated.com/orders/AgAAACkA_kFraIM8SGGA8qGoUIMSWQ                            43914-86010  urn:order:fe416b68-833c-4861-80f2-a1a850831259  https://ops.curated.com/consumers/AgAAAAEAxUPTmRNLR9CzsdmmTJeRKw  urn:user:c543d399-134b-47d0-b3b1-d9a64c97912b                           2022-12-30             2017-11-27                                                    329.97                                     467.46\n",
       "178  https://ops.curated.com/consumers/AgAAAAEAxUPTmRNLR9CzsdmmTJeRKw  urn:user:c543d399-134b-47d0-b3b1-d9a64c97912b                        trigger                            crm                            2022-12-31  https://ops.curated.com/orders/AgAAACkAKSukO82FTlu-ZJauf-ABxA                            79248-34631  urn:order:292ba43b-cd85-4e5b-be64-96ae7fe001c4  https://ops.curated.com/consumers/AgAAAAEAxUPTmRNLR9CzsdmmTJeRKw  urn:user:c543d399-134b-47d0-b3b1-d9a64c97912b                           2022-12-23             2017-11-27                                                    299.99                                     228.79\n",
       "179  https://ops.curated.com/consumers/AgAAAAEAxUPTmRNLR9CzsdmmTJeRKw  urn:user:c543d399-134b-47d0-b3b1-d9a64c97912b                        trigger                            crm                            2022-12-31  https://ops.curated.com/orders/AgAAACkAv4_qSk-NTGW3sIvQVUcjiQ                            01916-26351  urn:order:bf8fea4a-4f8d-4c65-b7b0-8bd055472389  https://ops.curated.com/consumers/AgAAAAEAxUPTmRNLR9CzsdmmTJeRKw  urn:user:c543d399-134b-47d0-b3b1-d9a64c97912b                           2022-12-30             2017-11-27                                                    120.00                                      54.00"
      ]
     },
     "execution_count": 8,
     "metadata": {},
     "output_type": "execute_result"
    }
   ],
   "source": [
    "print(merged.shape)\n",
    "merged.sort_values('fact_attributions_touch_occurred_date', ascending=False).head()"
   ]
  },
  {
   "cell_type": "markdown",
   "id": "e989d8cd-77fc-43a0-aceb-9fecf39591e7",
   "metadata": {},
   "source": [
    "There are 5 cases\n",
    "1.  users with no activity and orders (we don't care about these orders for an attribution model)\n",
    "2.  users with activity but no orders\n",
    "3.  users with activity and orders that are greater than activity date\n",
    "4.  users with activity and orders BUT with activities with missing orders\n",
    "5.  __users with activity and multiple orders on same day__ (bc we don't group by order_id we \"undercount\" paths)\n",
    "  - since assuming that multiples orders on the same day can be attributed to same"
   ]
  },
  {
   "cell_type": "code",
   "execution_count": 9,
   "id": "9089459a-bf4d-48dd-80fe-73091951207a",
   "metadata": {},
   "outputs": [],
   "source": [
    "# users with activty but no orders\n",
    "no_order_df = merged[pd.isnull(merged['dim_users_user_id'])][['fact_attributions_user_id', 'fact_purchased_orders_order_id', 'fact_attributions_touch_source', 'fact_attributions_touch_occurred_date', 'fact_purchased_orders_purchased_date']]\n",
    "# no_order_df = merged[pd.isnull(merged['dim_users_user_id'])][['fact_attributions_user_id', 'fact_attributions_touch_source', 'fact_attributions_touch_occurred_date', 'fact_purchased_orders_purchased_date']]\n",
    "no_order_df['fact_purchased_orders_purchased_date'] = -1\n",
    "no_order_df['fact_purchased_orders_order_id'] = -1"
   ]
  },
  {
   "cell_type": "code",
   "execution_count": 10,
   "id": "cb25be0e-a099-40fb-8320-2a97fb22a486",
   "metadata": {},
   "outputs": [],
   "source": [
    "# # testing\n",
    "# print(no_order_df.sort_values('fact_attributions_touch_occurred_date').shape)\n",
    "# no_order_df.sort_values('fact_attributions_touch_occurred_date', ascending=False).head()"
   ]
  },
  {
   "cell_type": "code",
   "execution_count": 11,
   "id": "22f29619-d866-486c-b623-41bcf1f1cff8",
   "metadata": {},
   "outputs": [],
   "source": [
    "# users with activities and orders\n",
    "\n",
    "# isValid is so we can get the respective minimum order date for each user activity such that the order date is greater than the activity date\n",
    "# e.g. user journey = activtity_1 > order_1 > activity_2 > activity_3 > order_2\n",
    "# in the example above, order_1 would be associated with activity_1 and order_2 would be associated with both activity_2/3\n",
    "merged['isValid'] = merged['fact_attributions_touch_occurred_date'] <= merged['fact_purchased_orders_purchased_date']\n",
    "\n",
    "orders_df = merged[merged.isValid].sort_values('fact_purchased_orders_purchased_date').groupby(['fact_attributions_user_id', 'fact_purchased_orders_order_id', 'fact_attributions_touch_source', 'fact_attributions_touch_occurred_date']).first()[[\\\n",
    "    'fact_purchased_orders_purchased_date']].reset_index()\n",
    "\n",
    "# orders_df = merged[merged.isValid].sort_values('fact_purchased_orders_purchased_date').groupby(['fact_attributions_user_id', 'fact_attributions_touch_source', 'fact_attributions_touch_occurred_date']).first()[[\\\n",
    "#     'fact_purchased_orders_purchased_date']].reset_index()"
   ]
  },
  {
   "cell_type": "code",
   "execution_count": 12,
   "id": "04bc448e-986c-4233-aac3-dc7e568bec66",
   "metadata": {},
   "outputs": [],
   "source": [
    "# # testing\n",
    "# print(orders_df.sort_values('fact_attributions_touch_occurred_date').shape)\n",
    "# orders_df.sort_values('fact_attributions_touch_occurred_date', ascending=False).head()"
   ]
  },
  {
   "cell_type": "code",
   "execution_count": 13,
   "id": "ea38c89f-5df5-4a03-9b95-ec2175534ceb",
   "metadata": {},
   "outputs": [],
   "source": [
    "# users with activity and orders AND activity with missing orders\n",
    "merged['max_order_date'] = merged.groupby(['fact_attributions_user_id'])['fact_purchased_orders_purchased_date'].transform('max')\n",
    "merged['missing_orders'] = merged['fact_attributions_touch_occurred_date'] > merged['max_order_date']\n",
    "\n",
    "missing_order_df = merged[merged.missing_orders].sort_values('fact_purchased_orders_purchased_date').groupby(['fact_attributions_user_id', 'fact_attributions_touch_source','fact_attributions_touch_occurred_date']).first()[[\\\n",
    "    'fact_purchased_orders_purchased_date']].reset_index()\n",
    "\n",
    "missing_order_df['fact_purchased_orders_purchased_date'] = -1\n",
    "missing_order_df['fact_purchased_orders_order_id'] = -1"
   ]
  },
  {
   "cell_type": "code",
   "execution_count": 14,
   "id": "cd49bd83-cf95-4be6-a682-1c36d1fb19a4",
   "metadata": {},
   "outputs": [],
   "source": [
    "# # testing\n",
    "# print(missing_order_df.sort_values('fact_attributions_touch_occurred_date').shape)\n",
    "# missing_order_df.sort_values('fact_attributions_touch_occurred_date', ascending=False).head()"
   ]
  },
  {
   "cell_type": "code",
   "execution_count": 15,
   "id": "e204f73b-d992-4bf7-9879-d6fa9fbe4f69",
   "metadata": {},
   "outputs": [],
   "source": [
    "# # testing\n",
    "# merged[['fact_attributions_user_id', 'fact_attributions_touch_source', 'fact_attributions_touch_occurred_date', 'fact_purchased_orders_purchased_date']]\\\n",
    "# .sort_values(['fact_attributions_touch_occurred_date', 'fact_purchased_orders_purchased_date'], ascending=[False, False]).head(20)"
   ]
  },
  {
   "cell_type": "code",
   "execution_count": 16,
   "id": "74909ae4-fbf7-44ee-9d68-9215b8597857",
   "metadata": {},
   "outputs": [],
   "source": [
    "res_df = pd.concat([no_order_df, orders_df, missing_order_df])"
   ]
  },
  {
   "cell_type": "code",
   "execution_count": 17,
   "id": "60364bb6-4fc6-4b3f-861d-23a1891cc9be",
   "metadata": {},
   "outputs": [
    {
     "name": "stdout",
     "output_type": "stream",
     "text": [
      "(2896, 5)\n"
     ]
    },
    {
     "data": {
      "text/html": [
       "<div>\n",
       "<style scoped>\n",
       "    .dataframe tbody tr th:only-of-type {\n",
       "        vertical-align: middle;\n",
       "    }\n",
       "\n",
       "    .dataframe tbody tr th {\n",
       "        vertical-align: top;\n",
       "    }\n",
       "\n",
       "    .dataframe thead th {\n",
       "        text-align: right;\n",
       "    }\n",
       "</style>\n",
       "<table border=\"1\" class=\"dataframe\">\n",
       "  <thead>\n",
       "    <tr style=\"text-align: right;\">\n",
       "      <th></th>\n",
       "      <th>fact_attributions_user_id</th>\n",
       "      <th>fact_purchased_orders_order_id</th>\n",
       "      <th>fact_attributions_touch_source</th>\n",
       "      <th>fact_attributions_touch_occurred_date</th>\n",
       "      <th>fact_purchased_orders_purchased_date</th>\n",
       "    </tr>\n",
       "  </thead>\n",
       "  <tbody>\n",
       "    <tr>\n",
       "      <th>154</th>\n",
       "      <td>urn:user:c543d399-134b-47d0-b3b1-d9a64c97912b</td>\n",
       "      <td>urn:order:292ba43b-cd85-4e5b-be64-96ae7fe001c4</td>\n",
       "      <td>trigger</td>\n",
       "      <td>2022-01-03</td>\n",
       "      <td>2022-12-23</td>\n",
       "    </tr>\n",
       "    <tr>\n",
       "      <th>2020</th>\n",
       "      <td>urn:user:c543d399-134b-47d0-b3b1-d9a64c97912b</td>\n",
       "      <td>urn:order:c6d86888-b0aa-4f4b-83ff-59c5f0626123</td>\n",
       "      <td>direct</td>\n",
       "      <td>2022-01-03</td>\n",
       "      <td>2022-12-21</td>\n",
       "    </tr>\n",
       "    <tr>\n",
       "      <th>1875</th>\n",
       "      <td>urn:user:c543d399-134b-47d0-b3b1-d9a64c97912b</td>\n",
       "      <td>urn:order:bf8fea4a-4f8d-4c65-b7b0-8bd055472389</td>\n",
       "      <td>trigger</td>\n",
       "      <td>2022-01-03</td>\n",
       "      <td>2022-12-30</td>\n",
       "    </tr>\n",
       "    <tr>\n",
       "      <th>2310</th>\n",
       "      <td>urn:user:c543d399-134b-47d0-b3b1-d9a64c97912b</td>\n",
       "      <td>urn:order:ce24cad6-b0f7-4ebc-addd-9c6eaaca529e</td>\n",
       "      <td>direct</td>\n",
       "      <td>2022-01-03</td>\n",
       "      <td>2022-12-23</td>\n",
       "    </tr>\n",
       "    <tr>\n",
       "      <th>1724</th>\n",
       "      <td>urn:user:c543d399-134b-47d0-b3b1-d9a64c97912b</td>\n",
       "      <td>urn:order:bf8fea4a-4f8d-4c65-b7b0-8bd055472389</td>\n",
       "      <td>direct</td>\n",
       "      <td>2022-01-03</td>\n",
       "      <td>2022-12-30</td>\n",
       "    </tr>\n",
       "  </tbody>\n",
       "</table>\n",
       "</div>"
      ],
      "text/plain": [
       "                          fact_attributions_user_id                  fact_purchased_orders_order_id fact_attributions_touch_source fact_attributions_touch_occurred_date fact_purchased_orders_purchased_date\n",
       "154   urn:user:c543d399-134b-47d0-b3b1-d9a64c97912b  urn:order:292ba43b-cd85-4e5b-be64-96ae7fe001c4                        trigger                            2022-01-03                           2022-12-23\n",
       "2020  urn:user:c543d399-134b-47d0-b3b1-d9a64c97912b  urn:order:c6d86888-b0aa-4f4b-83ff-59c5f0626123                         direct                            2022-01-03                           2022-12-21\n",
       "1875  urn:user:c543d399-134b-47d0-b3b1-d9a64c97912b  urn:order:bf8fea4a-4f8d-4c65-b7b0-8bd055472389                        trigger                            2022-01-03                           2022-12-30\n",
       "2310  urn:user:c543d399-134b-47d0-b3b1-d9a64c97912b  urn:order:ce24cad6-b0f7-4ebc-addd-9c6eaaca529e                         direct                            2022-01-03                           2022-12-23\n",
       "1724  urn:user:c543d399-134b-47d0-b3b1-d9a64c97912b  urn:order:bf8fea4a-4f8d-4c65-b7b0-8bd055472389                         direct                            2022-01-03                           2022-12-30"
      ]
     },
     "execution_count": 17,
     "metadata": {},
     "output_type": "execute_result"
    }
   ],
   "source": [
    "print(res_df.shape)\n",
    "res_df.sort_values('fact_attributions_touch_occurred_date').head()"
   ]
  },
  {
   "cell_type": "code",
   "execution_count": 18,
   "id": "684d1eda-9d8f-4d41-aa11-644f8adea98c",
   "metadata": {},
   "outputs": [],
   "source": [
    "# df_paths = res_df.groupby(['fact_attributions_user_id', 'fact_purchased_orders_purchased_date'])['fact_attributions_touch_source'].aggregate(\n",
    "#     lambda x: x.unique().tolist()).reset_index()\n",
    "\n",
    "df_paths = res_df.groupby(['fact_attributions_user_id', 'fact_purchased_orders_order_id', 'fact_purchased_orders_purchased_date'])['fact_attributions_touch_source'].aggregate(\n",
    "    lambda x: x.unique().tolist()).reset_index()\n",
    "\n",
    "# df_last_interaction = df.drop_duplicates('fact_attributions_user_id', keep='last')[['fact_attributions_user_id', 'fact_purchased_orders_order_id', 'fact_purchased_orders_purchased_date']]\n",
    "# df_paths = pd.merge(df_paths, df_last_interaction, how='left', on='fact_attributions_user_id')\n",
    "\n",
    "def get_list(x):\n",
    "    x['fact_attributions_touch_source'].insert(0, 'Start')\n",
    "    x['fact_attributions_touch_source'].append('Null' if x.fact_purchased_orders_purchased_date == -1 else 'Conversion' )\n",
    "    return x"
   ]
  },
  {
   "cell_type": "code",
   "execution_count": 19,
   "id": "531f33a7-8874-4c7c-94af-3777a783fbf1",
   "metadata": {},
   "outputs": [
    {
     "data": {
      "text/html": [
       "<div>\n",
       "<style scoped>\n",
       "    .dataframe tbody tr th:only-of-type {\n",
       "        vertical-align: middle;\n",
       "    }\n",
       "\n",
       "    .dataframe tbody tr th {\n",
       "        vertical-align: top;\n",
       "    }\n",
       "\n",
       "    .dataframe thead th {\n",
       "        text-align: right;\n",
       "    }\n",
       "</style>\n",
       "<table border=\"1\" class=\"dataframe\">\n",
       "  <thead>\n",
       "    <tr style=\"text-align: right;\">\n",
       "      <th></th>\n",
       "      <th>fact_attributions_user_id</th>\n",
       "      <th>fact_purchased_orders_order_id</th>\n",
       "      <th>fact_purchased_orders_purchased_date</th>\n",
       "      <th>fact_attributions_touch_source</th>\n",
       "    </tr>\n",
       "  </thead>\n",
       "  <tbody>\n",
       "    <tr>\n",
       "      <th>0</th>\n",
       "      <td>urn:user:c543d399-134b-47d0-b3b1-d9a64c97912b</td>\n",
       "      <td>-1</td>\n",
       "      <td>-1</td>\n",
       "      <td>[Start, direct, trigger, Null]</td>\n",
       "    </tr>\n",
       "    <tr>\n",
       "      <th>1</th>\n",
       "      <td>urn:user:c543d399-134b-47d0-b3b1-d9a64c97912b</td>\n",
       "      <td>urn:order:292ba43b-cd85-4e5b-be64-96ae7fe001c4</td>\n",
       "      <td>2022-12-23</td>\n",
       "      <td>[Start, consumer referral, direct, expert affiliate, google, google ads, google shopping, linkedin, trigger, Conversion]</td>\n",
       "    </tr>\n",
       "    <tr>\n",
       "      <th>2</th>\n",
       "      <td>urn:user:c543d399-134b-47d0-b3b1-d9a64c97912b</td>\n",
       "      <td>urn:order:45073a2b-532a-44f5-af04-50143c27080f</td>\n",
       "      <td>2022-12-23</td>\n",
       "      <td>[Start, consumer referral, direct, expert affiliate, google, google ads, google shopping, linkedin, trigger, Conversion]</td>\n",
       "    </tr>\n",
       "    <tr>\n",
       "      <th>3</th>\n",
       "      <td>urn:user:c543d399-134b-47d0-b3b1-d9a64c97912b</td>\n",
       "      <td>urn:order:578aa0fb-3e57-4b94-9c9e-9f31c668d2a6</td>\n",
       "      <td>2022-12-16</td>\n",
       "      <td>[Start, consumer referral, direct, expert affiliate, google, google ads, google shopping, linkedin, trigger, Conversion]</td>\n",
       "    </tr>\n",
       "    <tr>\n",
       "      <th>4</th>\n",
       "      <td>urn:user:c543d399-134b-47d0-b3b1-d9a64c97912b</td>\n",
       "      <td>urn:order:794b25e2-b7fa-4066-8771-6e7b0bdee4f8</td>\n",
       "      <td>2022-12-23</td>\n",
       "      <td>[Start, consumer referral, direct, expert affiliate, google, google ads, google shopping, linkedin, trigger, Conversion]</td>\n",
       "    </tr>\n",
       "    <tr>\n",
       "      <th>5</th>\n",
       "      <td>urn:user:c543d399-134b-47d0-b3b1-d9a64c97912b</td>\n",
       "      <td>urn:order:881e3825-87ca-4097-98ba-e0130020d65e</td>\n",
       "      <td>2022-11-30</td>\n",
       "      <td>[Start, consumer referral, direct, expert affiliate, google, google ads, google shopping, linkedin, trigger, Conversion]</td>\n",
       "    </tr>\n",
       "    <tr>\n",
       "      <th>6</th>\n",
       "      <td>urn:user:c543d399-134b-47d0-b3b1-d9a64c97912b</td>\n",
       "      <td>urn:order:addf2ef3-993f-4c46-a362-3ce46a4d1da3</td>\n",
       "      <td>2022-12-08</td>\n",
       "      <td>[Start, consumer referral, direct, expert affiliate, google, google ads, google shopping, linkedin, trigger, Conversion]</td>\n",
       "    </tr>\n",
       "    <tr>\n",
       "      <th>7</th>\n",
       "      <td>urn:user:c543d399-134b-47d0-b3b1-d9a64c97912b</td>\n",
       "      <td>urn:order:bf8fea4a-4f8d-4c65-b7b0-8bd055472389</td>\n",
       "      <td>2022-12-30</td>\n",
       "      <td>[Start, consumer referral, direct, expert affiliate, google, google ads, google shopping, linkedin, trigger, Conversion]</td>\n",
       "    </tr>\n",
       "    <tr>\n",
       "      <th>8</th>\n",
       "      <td>urn:user:c543d399-134b-47d0-b3b1-d9a64c97912b</td>\n",
       "      <td>urn:order:c6d86888-b0aa-4f4b-83ff-59c5f0626123</td>\n",
       "      <td>2022-12-21</td>\n",
       "      <td>[Start, consumer referral, direct, expert affiliate, google, google ads, google shopping, linkedin, trigger, Conversion]</td>\n",
       "    </tr>\n",
       "    <tr>\n",
       "      <th>9</th>\n",
       "      <td>urn:user:c543d399-134b-47d0-b3b1-d9a64c97912b</td>\n",
       "      <td>urn:order:ce24cad6-b0f7-4ebc-addd-9c6eaaca529e</td>\n",
       "      <td>2022-12-23</td>\n",
       "      <td>[Start, consumer referral, direct, expert affiliate, google, google ads, google shopping, linkedin, trigger, Conversion]</td>\n",
       "    </tr>\n",
       "    <tr>\n",
       "      <th>10</th>\n",
       "      <td>urn:user:c543d399-134b-47d0-b3b1-d9a64c97912b</td>\n",
       "      <td>urn:order:fe416b68-833c-4861-80f2-a1a850831259</td>\n",
       "      <td>2022-12-30</td>\n",
       "      <td>[Start, consumer referral, direct, expert affiliate, google, google ads, google shopping, linkedin, trigger, Conversion]</td>\n",
       "    </tr>\n",
       "  </tbody>\n",
       "</table>\n",
       "</div>"
      ],
      "text/plain": [
       "                        fact_attributions_user_id                  fact_purchased_orders_order_id fact_purchased_orders_purchased_date                                                                                            fact_attributions_touch_source\n",
       "0   urn:user:c543d399-134b-47d0-b3b1-d9a64c97912b                                              -1                                   -1                                                                                            [Start, direct, trigger, Null]\n",
       "1   urn:user:c543d399-134b-47d0-b3b1-d9a64c97912b  urn:order:292ba43b-cd85-4e5b-be64-96ae7fe001c4                           2022-12-23  [Start, consumer referral, direct, expert affiliate, google, google ads, google shopping, linkedin, trigger, Conversion]\n",
       "2   urn:user:c543d399-134b-47d0-b3b1-d9a64c97912b  urn:order:45073a2b-532a-44f5-af04-50143c27080f                           2022-12-23  [Start, consumer referral, direct, expert affiliate, google, google ads, google shopping, linkedin, trigger, Conversion]\n",
       "3   urn:user:c543d399-134b-47d0-b3b1-d9a64c97912b  urn:order:578aa0fb-3e57-4b94-9c9e-9f31c668d2a6                           2022-12-16  [Start, consumer referral, direct, expert affiliate, google, google ads, google shopping, linkedin, trigger, Conversion]\n",
       "4   urn:user:c543d399-134b-47d0-b3b1-d9a64c97912b  urn:order:794b25e2-b7fa-4066-8771-6e7b0bdee4f8                           2022-12-23  [Start, consumer referral, direct, expert affiliate, google, google ads, google shopping, linkedin, trigger, Conversion]\n",
       "5   urn:user:c543d399-134b-47d0-b3b1-d9a64c97912b  urn:order:881e3825-87ca-4097-98ba-e0130020d65e                           2022-11-30  [Start, consumer referral, direct, expert affiliate, google, google ads, google shopping, linkedin, trigger, Conversion]\n",
       "6   urn:user:c543d399-134b-47d0-b3b1-d9a64c97912b  urn:order:addf2ef3-993f-4c46-a362-3ce46a4d1da3                           2022-12-08  [Start, consumer referral, direct, expert affiliate, google, google ads, google shopping, linkedin, trigger, Conversion]\n",
       "7   urn:user:c543d399-134b-47d0-b3b1-d9a64c97912b  urn:order:bf8fea4a-4f8d-4c65-b7b0-8bd055472389                           2022-12-30  [Start, consumer referral, direct, expert affiliate, google, google ads, google shopping, linkedin, trigger, Conversion]\n",
       "8   urn:user:c543d399-134b-47d0-b3b1-d9a64c97912b  urn:order:c6d86888-b0aa-4f4b-83ff-59c5f0626123                           2022-12-21  [Start, consumer referral, direct, expert affiliate, google, google ads, google shopping, linkedin, trigger, Conversion]\n",
       "9   urn:user:c543d399-134b-47d0-b3b1-d9a64c97912b  urn:order:ce24cad6-b0f7-4ebc-addd-9c6eaaca529e                           2022-12-23  [Start, consumer referral, direct, expert affiliate, google, google ads, google shopping, linkedin, trigger, Conversion]\n",
       "10  urn:user:c543d399-134b-47d0-b3b1-d9a64c97912b  urn:order:fe416b68-833c-4861-80f2-a1a850831259                           2022-12-30  [Start, consumer referral, direct, expert affiliate, google, google ads, google shopping, linkedin, trigger, Conversion]"
      ]
     },
     "execution_count": 19,
     "metadata": {},
     "output_type": "execute_result"
    }
   ],
   "source": [
    "df_paths.apply(lambda x: get_list(x), axis=1)"
   ]
  },
  {
   "cell_type": "code",
   "execution_count": 20,
   "id": "a9795422-289c-46bf-8391-b03f5abb9edc",
   "metadata": {},
   "outputs": [
    {
     "data": {
      "text/plain": [
       "(11, 4)"
      ]
     },
     "execution_count": 20,
     "metadata": {},
     "output_type": "execute_result"
    }
   ],
   "source": [
    "df_paths = df_paths.rename(columns={\"fact_attributions_touch_source\": \"path\"})\n",
    "df_paths.shape"
   ]
  },
  {
   "cell_type": "code",
   "execution_count": 21,
   "id": "0a840e37-09a4-428c-82f4-6daea2dc678d",
   "metadata": {},
   "outputs": [],
   "source": [
    "# def is_conversion(x):\n",
    "#     if 'Conversion' in x['path']:\n",
    "#         return True\n",
    "#     return False\n",
    "\n",
    "# df_paths['conversion'] = df_paths.apply(lambda x: is_conversion(x), axis=1)"
   ]
  },
  {
   "cell_type": "code",
   "execution_count": 22,
   "id": "36a0d8ad-2d59-4f99-982c-2fdce2a27a93",
   "metadata": {},
   "outputs": [],
   "source": [
    "# df_paths = df_paths[df_paths['conversion']]\n",
    "# df_paths.head()"
   ]
  },
  {
   "cell_type": "code",
   "execution_count": 23,
   "id": "ed143962-b77d-4e67-853f-ea0f0033c442",
   "metadata": {},
   "outputs": [],
   "source": [
    "# df_paths['pathstring'] = [' > '.join(map(str, l)) for l in df_paths.path]\n",
    "# df_paths.head()\n",
    "# new_df = pd.DataFrame({'Paths':df_paths['pathstring']})\n",
    "# new_df.head()"
   ]
  },
  {
   "cell_type": "code",
   "execution_count": 24,
   "id": "fba45480-1263-44e8-ae5d-90791b7f6ca5",
   "metadata": {},
   "outputs": [],
   "source": [
    "# import markov_model_attribution as mma\n",
    "\n",
    "# df = pd.DataFrame({'Paths':['start > cone > ctwo > cthree > conv',\n",
    "#                            'start > cone > null',\n",
    "#                            'start > ctwo > cthree > null']})\n",
    "\n",
    "# model = mma.run_model(paths=new_df)\n",
    "\n",
    "# print(model['markov_conversions'])\n",
    "# print(model['last_touch_conversions'])"
   ]
  },
  {
   "cell_type": "code",
   "execution_count": null,
   "id": "95e64218-6ff7-40b6-a207-d2a555b65354",
   "metadata": {},
   "outputs": [],
   "source": []
  },
  {
   "cell_type": "code",
   "execution_count": null,
   "id": "4f96a87c-b199-4ab6-a946-c9d8b9ae5bdc",
   "metadata": {},
   "outputs": [],
   "source": []
  },
  {
   "cell_type": "markdown",
   "id": "e3b69af3-3f17-45dd-b369-eb920cb56dcc",
   "metadata": {},
   "source": [
    "### Markov Chains"
   ]
  },
  {
   "cell_type": "code",
   "execution_count": 25,
   "id": "736bbd26-d537-43a8-8578-8fdb5b3a370b",
   "metadata": {},
   "outputs": [],
   "source": [
    "list_of_paths = df_paths['path']\n",
    "total_conversions = sum(path.count('Conversion') for path in df_paths['path'].tolist())\n",
    "base_conversion_rate = total_conversions / len(list_of_paths)"
   ]
  },
  {
   "cell_type": "code",
   "execution_count": 26,
   "id": "056928f2-7539-4bf8-b4ee-ed5a0152f9ef",
   "metadata": {},
   "outputs": [
    {
     "name": "stdout",
     "output_type": "stream",
     "text": [
      "10\n",
      "0.9090909090909091\n"
     ]
    }
   ],
   "source": [
    "print(total_conversions)\n",
    "print(base_conversion_rate)"
   ]
  },
  {
   "cell_type": "code",
   "execution_count": 27,
   "id": "56057b61-369d-48c3-8dd2-d72ab9f909f6",
   "metadata": {},
   "outputs": [],
   "source": [
    "def transition_states(list_of_paths):\n",
    "    list_of_unique_channels = set(x for element in list_of_paths for x in element)\n",
    "    transition_states = {x + '>' + y: 0 for x in list_of_unique_channels for y in list_of_unique_channels}\n",
    "\n",
    "    for possible_state in list_of_unique_channels:\n",
    "        if possible_state not in ['Conversion', 'Null']:\n",
    "            for user_path in list_of_paths:\n",
    "                if possible_state in user_path:\n",
    "                    indices = [i for i, s in enumerate(user_path) if possible_state in s]\n",
    "                    for col in indices:\n",
    "                        transition_states[user_path[col] + '>' + user_path[col + 1]] += 1\n",
    "\n",
    "    return transition_states\n",
    "\n",
    "\n",
    "trans_states = transition_states(list_of_paths)"
   ]
  },
  {
   "cell_type": "code",
   "execution_count": 28,
   "id": "73dfeab5-fa03-4aa5-81d7-3a1a441ba71c",
   "metadata": {},
   "outputs": [],
   "source": [
    "# trans_states"
   ]
  },
  {
   "cell_type": "code",
   "execution_count": 29,
   "id": "8c25a173-cbc3-4083-8567-327cab9c47e6",
   "metadata": {},
   "outputs": [],
   "source": [
    "def transition_prob(trans_dict):\n",
    "    list_of_unique_channels = set(x for element in list_of_paths for x in element)\n",
    "    trans_prob = defaultdict(dict)\n",
    "    for state in list_of_unique_channels:\n",
    "        if state not in ['Conversion', 'Null']:\n",
    "            counter = 0\n",
    "            index = [i for i, s in enumerate(trans_dict) if state + '>' in s]\n",
    "            for col in index:\n",
    "                if trans_dict[list(trans_dict)[col]] > 0:\n",
    "                    counter += trans_dict[list(trans_dict)[col]]\n",
    "            for col in index:\n",
    "                if trans_dict[list(trans_dict)[col]] > 0:\n",
    "                    state_prob = float((trans_dict[list(trans_dict)[col]])) / float(counter)\n",
    "                    trans_prob[list(trans_dict)[col]] = state_prob\n",
    "\n",
    "    return trans_prob\n",
    "\n",
    "\n",
    "trans_prob = transition_prob(trans_states)"
   ]
  },
  {
   "cell_type": "code",
   "execution_count": 30,
   "id": "4c3093c7-3793-4a0d-b80b-00d3e0a8d28b",
   "metadata": {},
   "outputs": [],
   "source": [
    "# trans_prob"
   ]
  },
  {
   "cell_type": "code",
   "execution_count": 31,
   "id": "89a29587-651b-4d0d-b7be-75bbb901fe9c",
   "metadata": {},
   "outputs": [],
   "source": [
    "def transition_matrix(list_of_paths, transition_probabilities):\n",
    "    trans_matrix = pd.DataFrame()\n",
    "    list_of_unique_channels = set(x for element in list_of_paths for x in element)\n",
    "\n",
    "    for channel in list_of_unique_channels:\n",
    "        trans_matrix[channel] = 0.00\n",
    "        trans_matrix.loc[channel] = 0.00\n",
    "        trans_matrix.loc[channel][channel] = 1.0 if channel in ['Conversion', 'Null'] else 0.0\n",
    "\n",
    "    for key, value in transition_probabilities.items():\n",
    "        origin, destination = key.split('>')\n",
    "        trans_matrix.at[origin, destination] = value\n",
    "\n",
    "    return trans_matrix\n",
    "\n",
    "trans_matrix = transition_matrix(list_of_paths, trans_prob)"
   ]
  },
  {
   "cell_type": "code",
   "execution_count": 39,
   "id": "8fd8f729-2ef0-4cc8-a70f-ff2bd5f502cf",
   "metadata": {},
   "outputs": [
    {
     "data": {
      "text/html": [
       "<div>\n",
       "<style scoped>\n",
       "    .dataframe tbody tr th:only-of-type {\n",
       "        vertical-align: middle;\n",
       "    }\n",
       "\n",
       "    .dataframe tbody tr th {\n",
       "        vertical-align: top;\n",
       "    }\n",
       "\n",
       "    .dataframe thead th {\n",
       "        text-align: right;\n",
       "    }\n",
       "</style>\n",
       "<table border=\"1\" class=\"dataframe\">\n",
       "  <thead>\n",
       "    <tr style=\"text-align: right;\">\n",
       "      <th></th>\n",
       "      <th>google</th>\n",
       "      <th>expert affiliate</th>\n",
       "      <th>google shopping</th>\n",
       "      <th>trigger</th>\n",
       "      <th>linkedin</th>\n",
       "      <th>Conversion</th>\n",
       "      <th>Null</th>\n",
       "      <th>direct</th>\n",
       "      <th>Start</th>\n",
       "      <th>consumer referral</th>\n",
       "      <th>google ads</th>\n",
       "    </tr>\n",
       "  </thead>\n",
       "  <tbody>\n",
       "    <tr>\n",
       "      <th>google</th>\n",
       "      <td>0.0</td>\n",
       "      <td>0.000000</td>\n",
       "      <td>0.0</td>\n",
       "      <td>0.000000</td>\n",
       "      <td>0.0</td>\n",
       "      <td>0.000000</td>\n",
       "      <td>0.000000</td>\n",
       "      <td>0.000000</td>\n",
       "      <td>0.0</td>\n",
       "      <td>0.000000</td>\n",
       "      <td>1.0</td>\n",
       "    </tr>\n",
       "    <tr>\n",
       "      <th>expert affiliate</th>\n",
       "      <td>1.0</td>\n",
       "      <td>0.000000</td>\n",
       "      <td>0.0</td>\n",
       "      <td>0.000000</td>\n",
       "      <td>0.0</td>\n",
       "      <td>0.000000</td>\n",
       "      <td>0.000000</td>\n",
       "      <td>0.000000</td>\n",
       "      <td>0.0</td>\n",
       "      <td>0.000000</td>\n",
       "      <td>0.0</td>\n",
       "    </tr>\n",
       "    <tr>\n",
       "      <th>google shopping</th>\n",
       "      <td>0.0</td>\n",
       "      <td>0.000000</td>\n",
       "      <td>0.0</td>\n",
       "      <td>0.000000</td>\n",
       "      <td>1.0</td>\n",
       "      <td>0.000000</td>\n",
       "      <td>0.000000</td>\n",
       "      <td>0.000000</td>\n",
       "      <td>0.0</td>\n",
       "      <td>0.000000</td>\n",
       "      <td>0.0</td>\n",
       "    </tr>\n",
       "    <tr>\n",
       "      <th>trigger</th>\n",
       "      <td>0.0</td>\n",
       "      <td>0.000000</td>\n",
       "      <td>0.0</td>\n",
       "      <td>0.000000</td>\n",
       "      <td>0.0</td>\n",
       "      <td>0.909091</td>\n",
       "      <td>0.090909</td>\n",
       "      <td>0.000000</td>\n",
       "      <td>0.0</td>\n",
       "      <td>0.000000</td>\n",
       "      <td>0.0</td>\n",
       "    </tr>\n",
       "    <tr>\n",
       "      <th>linkedin</th>\n",
       "      <td>0.0</td>\n",
       "      <td>0.000000</td>\n",
       "      <td>0.0</td>\n",
       "      <td>1.000000</td>\n",
       "      <td>0.0</td>\n",
       "      <td>0.000000</td>\n",
       "      <td>0.000000</td>\n",
       "      <td>0.000000</td>\n",
       "      <td>0.0</td>\n",
       "      <td>0.000000</td>\n",
       "      <td>0.0</td>\n",
       "    </tr>\n",
       "    <tr>\n",
       "      <th>Conversion</th>\n",
       "      <td>0.0</td>\n",
       "      <td>0.000000</td>\n",
       "      <td>0.0</td>\n",
       "      <td>0.000000</td>\n",
       "      <td>0.0</td>\n",
       "      <td>1.000000</td>\n",
       "      <td>0.000000</td>\n",
       "      <td>0.000000</td>\n",
       "      <td>0.0</td>\n",
       "      <td>0.000000</td>\n",
       "      <td>0.0</td>\n",
       "    </tr>\n",
       "    <tr>\n",
       "      <th>Null</th>\n",
       "      <td>0.0</td>\n",
       "      <td>0.000000</td>\n",
       "      <td>0.0</td>\n",
       "      <td>0.000000</td>\n",
       "      <td>0.0</td>\n",
       "      <td>0.000000</td>\n",
       "      <td>1.000000</td>\n",
       "      <td>0.000000</td>\n",
       "      <td>0.0</td>\n",
       "      <td>0.000000</td>\n",
       "      <td>0.0</td>\n",
       "    </tr>\n",
       "    <tr>\n",
       "      <th>direct</th>\n",
       "      <td>0.0</td>\n",
       "      <td>0.909091</td>\n",
       "      <td>0.0</td>\n",
       "      <td>0.090909</td>\n",
       "      <td>0.0</td>\n",
       "      <td>0.000000</td>\n",
       "      <td>0.000000</td>\n",
       "      <td>0.000000</td>\n",
       "      <td>0.0</td>\n",
       "      <td>0.000000</td>\n",
       "      <td>0.0</td>\n",
       "    </tr>\n",
       "    <tr>\n",
       "      <th>Start</th>\n",
       "      <td>0.0</td>\n",
       "      <td>0.000000</td>\n",
       "      <td>0.0</td>\n",
       "      <td>0.000000</td>\n",
       "      <td>0.0</td>\n",
       "      <td>0.000000</td>\n",
       "      <td>0.000000</td>\n",
       "      <td>0.090909</td>\n",
       "      <td>0.0</td>\n",
       "      <td>0.909091</td>\n",
       "      <td>0.0</td>\n",
       "    </tr>\n",
       "    <tr>\n",
       "      <th>consumer referral</th>\n",
       "      <td>0.0</td>\n",
       "      <td>0.000000</td>\n",
       "      <td>0.0</td>\n",
       "      <td>0.000000</td>\n",
       "      <td>0.0</td>\n",
       "      <td>0.000000</td>\n",
       "      <td>0.000000</td>\n",
       "      <td>1.000000</td>\n",
       "      <td>0.0</td>\n",
       "      <td>0.000000</td>\n",
       "      <td>0.0</td>\n",
       "    </tr>\n",
       "    <tr>\n",
       "      <th>google ads</th>\n",
       "      <td>0.0</td>\n",
       "      <td>0.000000</td>\n",
       "      <td>1.0</td>\n",
       "      <td>0.000000</td>\n",
       "      <td>0.0</td>\n",
       "      <td>0.000000</td>\n",
       "      <td>0.000000</td>\n",
       "      <td>0.000000</td>\n",
       "      <td>0.0</td>\n",
       "      <td>0.000000</td>\n",
       "      <td>0.0</td>\n",
       "    </tr>\n",
       "  </tbody>\n",
       "</table>\n",
       "</div>"
      ],
      "text/plain": [
       "                   google  expert affiliate  google shopping   trigger  linkedin  Conversion      Null    direct  Start  consumer referral  google ads\n",
       "google                0.0          0.000000              0.0  0.000000       0.0    0.000000  0.000000  0.000000    0.0           0.000000         1.0\n",
       "expert affiliate      1.0          0.000000              0.0  0.000000       0.0    0.000000  0.000000  0.000000    0.0           0.000000         0.0\n",
       "google shopping       0.0          0.000000              0.0  0.000000       1.0    0.000000  0.000000  0.000000    0.0           0.000000         0.0\n",
       "trigger               0.0          0.000000              0.0  0.000000       0.0    0.909091  0.090909  0.000000    0.0           0.000000         0.0\n",
       "linkedin              0.0          0.000000              0.0  1.000000       0.0    0.000000  0.000000  0.000000    0.0           0.000000         0.0\n",
       "Conversion            0.0          0.000000              0.0  0.000000       0.0    1.000000  0.000000  0.000000    0.0           0.000000         0.0\n",
       "Null                  0.0          0.000000              0.0  0.000000       0.0    0.000000  1.000000  0.000000    0.0           0.000000         0.0\n",
       "direct                0.0          0.909091              0.0  0.090909       0.0    0.000000  0.000000  0.000000    0.0           0.000000         0.0\n",
       "Start                 0.0          0.000000              0.0  0.000000       0.0    0.000000  0.000000  0.090909    0.0           0.909091         0.0\n",
       "consumer referral     0.0          0.000000              0.0  0.000000       0.0    0.000000  0.000000  1.000000    0.0           0.000000         0.0\n",
       "google ads            0.0          0.000000              1.0  0.000000       0.0    0.000000  0.000000  0.000000    0.0           0.000000         0.0"
      ]
     },
     "execution_count": 39,
     "metadata": {},
     "output_type": "execute_result"
    }
   ],
   "source": [
    "trans_matrix"
   ]
  },
  {
   "cell_type": "code",
   "execution_count": 33,
   "id": "6204658a-109f-42c1-8e20-3b858decc4d4",
   "metadata": {},
   "outputs": [],
   "source": [
    "def removal_effects(df, conversion_rate):\n",
    "    removal_effects_dict = {}\n",
    "    channels = [channel for channel in df.columns if channel not in ['Start',\n",
    "                                                                     'Null',\n",
    "                                                                     'Conversion']]\n",
    "    for channel in channels:\n",
    "        removal_df = df.drop(channel, axis=1).drop(channel, axis=0)\n",
    "        for column in removal_df.columns:\n",
    "            row_sum = np.sum(list(removal_df.loc[column]))\n",
    "            null_pct = float(1) - row_sum\n",
    "            if null_pct != 0:\n",
    "                removal_df.loc[column]['Null'] = null_pct\n",
    "            removal_df.loc['Null']['Null'] = 1.0\n",
    "\n",
    "        removal_to_conv = removal_df[\n",
    "            ['Null', 'Conversion']].drop(['Null', 'Conversion'], axis=0)\n",
    "        removal_to_non_conv = removal_df.drop(\n",
    "            ['Null', 'Conversion'], axis=1).drop(['Null', 'Conversion'], axis=0)\n",
    "\n",
    "        removal_inv_diff = np.linalg.inv(\n",
    "            np.identity(\n",
    "                len(removal_to_non_conv.columns)) - np.asarray(removal_to_non_conv))\n",
    "        removal_dot_prod = np.dot(removal_inv_diff, np.asarray(removal_to_conv))\n",
    "        removal_cvr = pd.DataFrame(removal_dot_prod,\n",
    "                                   index=removal_to_conv.index)[[1]].loc['Start'].values[0]\n",
    "        removal_effect = 1 - removal_cvr / conversion_rate\n",
    "        removal_effects_dict[channel] = removal_effect\n",
    "\n",
    "    return removal_effects_dict\n",
    "\n",
    "\n",
    "removal_effects_dict = removal_effects(trans_matrix, base_conversion_rate)"
   ]
  },
  {
   "cell_type": "code",
   "execution_count": 34,
   "id": "8d34c169-42cb-47c7-a3de-f17627e8b1d7",
   "metadata": {},
   "outputs": [
    {
     "data": {
      "text/plain": [
       "{'google': 0.9090909090909091,\n",
       " 'expert affiliate': 0.9090909090909091,\n",
       " 'google shopping': 0.9090909090909091,\n",
       " 'trigger': 1.0,\n",
       " 'linkedin': 0.9090909090909091,\n",
       " 'direct': 1.0,\n",
       " 'consumer referral': 0.9090909090909091,\n",
       " 'google ads': 0.9090909090909091}"
      ]
     },
     "execution_count": 34,
     "metadata": {},
     "output_type": "execute_result"
    }
   ],
   "source": [
    "removal_effects_dict"
   ]
  },
  {
   "cell_type": "code",
   "execution_count": 35,
   "id": "15647b13-7e6c-47a0-90b6-ddce268e93f8",
   "metadata": {},
   "outputs": [
    {
     "data": {
      "text/plain": [
       "re    7.454545\n",
       "dtype: float64"
      ]
     },
     "execution_count": 35,
     "metadata": {},
     "output_type": "execute_result"
    }
   ],
   "source": [
    "pd.DataFrame({'re': removal_effects_dict}).sum()"
   ]
  },
  {
   "cell_type": "code",
   "execution_count": 36,
   "id": "871785c0-28ce-495b-b1a6-11192bebc460",
   "metadata": {},
   "outputs": [
    {
     "name": "stdout",
     "output_type": "stream",
     "text": [
      "7.454545454545455\n"
     ]
    }
   ],
   "source": [
    "# const = 50788/10453\n",
    "def markov_chain_allocations(removal_effects, total_conversions):\n",
    "    re_sum = np.sum(list(removal_effects.values()))\n",
    "    print(re_sum)\n",
    "\n",
    "    return {k: (v / re_sum) * total_conversions for k, v in removal_effects.items()}\n",
    "\n",
    "attributions = markov_chain_allocations(removal_effects_dict, total_conversions)"
   ]
  },
  {
   "cell_type": "code",
   "execution_count": 37,
   "id": "2987a436-0a42-4518-8f3e-c30bffc7abad",
   "metadata": {},
   "outputs": [
    {
     "data": {
      "text/plain": [
       "{'google': 1.219512195121951,\n",
       " 'expert affiliate': 1.219512195121951,\n",
       " 'google shopping': 1.219512195121951,\n",
       " 'trigger': 1.3414634146341462,\n",
       " 'linkedin': 1.219512195121951,\n",
       " 'direct': 1.3414634146341462,\n",
       " 'consumer referral': 1.219512195121951,\n",
       " 'google ads': 1.219512195121951}"
      ]
     },
     "execution_count": 37,
     "metadata": {},
     "output_type": "execute_result"
    }
   ],
   "source": [
    "attributions"
   ]
  },
  {
   "cell_type": "code",
   "execution_count": 38,
   "id": "7a08af7f-30b7-42f2-82be-9cc4219ed2a9",
   "metadata": {},
   "outputs": [
    {
     "data": {
      "text/plain": [
       "att    10.0\n",
       "dtype: float64"
      ]
     },
     "execution_count": 38,
     "metadata": {},
     "output_type": "execute_result"
    }
   ],
   "source": [
    "pd.DataFrame({'att': attributions}).sum()"
   ]
  },
  {
   "cell_type": "code",
   "execution_count": null,
   "id": "993ce92a-4292-4e9e-a0f0-85688006a266",
   "metadata": {},
   "outputs": [],
   "source": []
  },
  {
   "cell_type": "code",
   "execution_count": 1260,
   "id": "b050db00-ea1f-4db2-8f42-7662d09365af",
   "metadata": {},
   "outputs": [],
   "source": [
    "pd.DataFrame({'att': attributions}).to_csv('attributions.csv')"
   ]
  },
  {
   "cell_type": "code",
   "execution_count": null,
   "id": "b2930982-0010-4490-8d96-bb150519ae7b",
   "metadata": {},
   "outputs": [],
   "source": []
  },
  {
   "cell_type": "code",
   "execution_count": null,
   "id": "06f74632-37fc-4047-8c2e-c43e6ca01aa1",
   "metadata": {},
   "outputs": [],
   "source": []
  }
 ],
 "metadata": {
  "kernelspec": {
   "display_name": "Python 3 (ipykernel)",
   "language": "python",
   "name": "python3"
  },
  "language_info": {
   "codemirror_mode": {
    "name": "ipython",
    "version": 3
   },
   "file_extension": ".py",
   "mimetype": "text/x-python",
   "name": "python",
   "nbconvert_exporter": "python",
   "pygments_lexer": "ipython3",
   "version": "3.10.9"
  }
 },
 "nbformat": 4,
 "nbformat_minor": 5
}
